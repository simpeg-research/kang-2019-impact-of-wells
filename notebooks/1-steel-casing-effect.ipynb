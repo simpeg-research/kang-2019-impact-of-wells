{
 "cells": [
  {
   "cell_type": "markdown",
   "metadata": {},
   "source": [
    "# The effect of steel casing in AEM data\n",
    "\n",
    "Figures 4, 5, 6 in Kang et al. (2020) are generated using this "
   ]
  },
  {
   "cell_type": "code",
   "execution_count": 2,
   "metadata": {},
   "outputs": [],
   "source": [
    "# core python packages\n",
    "import numpy as np\n",
    "import scipy.sparse as sp\n",
    "import matplotlib.pyplot as plt\n",
    "from matplotlib.colors import LogNorm\n",
    "from scipy.constants import mu_0, inch, foot\n",
    "import ipywidgets\n",
    "import properties\n",
    "import time \n",
    "from scipy.interpolate import interp1d\n",
    "from simpegEM1D.Waveforms import piecewise_pulse_fast\n",
    "\n",
    "# SimPEG and discretize\n",
    "import discretize\n",
    "from discretize import utils\n",
    "from SimPEG.EM import TDEM\n",
    "from SimPEG import Utils, Maps\n",
    "from SimPEG.Utils import Zero\n",
    "from pymatsolver import Pardiso\n",
    "\n",
    "# casing utilities\n",
    "import casingSimulations as casingSim\n",
    "\n",
    "%matplotlib inline"
   ]
  },
  {
   "cell_type": "markdown",
   "metadata": {},
   "source": [
    "## Model Parameters"
   ]
  },
  {
   "cell_type": "markdown",
   "metadata": {},
   "source": [
    "We will two classes of examples\n",
    "- permeable wells, one example is run for each $\\mu_r$ in `casing_mur`. The conductivity of this well is `sigma_permeable_casing`\n",
    "- conductive wells ($\\mu_r$=1), one example is run for each $\\sigma$ value in `sigma_casing`\n",
    "\n",
    "To add model runs to the simulation, just add to the list"
   ]
  },
  {
   "cell_type": "code",
   "execution_count": 3,
   "metadata": {},
   "outputs": [],
   "source": [
    "# permeabilities to model\n",
    "casing_mur = [100]\n",
    "sigma_permeable_casing = 1e8"
   ]
  },
  {
   "cell_type": "code",
   "execution_count": 4,
   "metadata": {},
   "outputs": [],
   "source": [
    "# background parameters\n",
    "sigma_air = 1e-6\n",
    "sigma_back = 1./340.\n",
    "casing_t = 10e-3 # 10mm thick casing\n",
    "casing_d = 300e-3 # 30cm diameter\n",
    "casing_l = 200\n",
    "\n",
    "def get_model(mur, sigc):\n",
    "    model = casingSim.model.CasingInHalfspace(\n",
    "        directory = simDir,\n",
    "        sigma_air = sigma_air,\n",
    "        sigma_casing = sigc,  # conductivity of the casing (S/m)\n",
    "        sigma_back = sigma_back,  # conductivity of the background (S/m)\n",
    "        sigma_inside = sigma_back,  # fluid inside the well has same conductivity as the background\n",
    "        casing_d = casing_d-casing_t,  # 135mm is outer casing diameter\n",
    "        casing_l = casing_l,\n",
    "        casing_t = casing_t, \n",
    "        mur_casing = mur,\n",
    "        src_a = np.r_[0., 0., 30.],\n",
    "        src_b = np.r_[0., 0., 30.]\n",
    "    )\n",
    " \n",
    "    return model"
   ]
  },
  {
   "cell_type": "markdown",
   "metadata": {},
   "source": [
    "## store the different models\n"
   ]
  },
  {
   "cell_type": "code",
   "execution_count": 5,
   "metadata": {},
   "outputs": [
    {
     "data": {
      "text/plain": [
       "['baseline', 'casing_100']"
      ]
     },
     "execution_count": 5,
     "metadata": {},
     "output_type": "execute_result"
    }
   ],
   "source": [
    "simDir = \"./\"\n",
    "model_names_permeable = [\"casing_{}\".format(mur) for mur in casing_mur]\n",
    "\n",
    "\n",
    "model_dict_permeable = {\n",
    "    key: get_model(mur, sigma_permeable_casing) for key, mur in zip(model_names_permeable, casing_mur)\n",
    "}\n",
    "\n",
    "\n",
    "model_names = model_names_permeable\n",
    "model_dict = {}\n",
    "model_dict.update(model_dict_permeable)\n",
    "\n",
    "model_dict[\"baseline\"] = model_dict[model_names[0]].copy()\n",
    "model_dict[\"baseline\"].sigma_casing = model_dict[\"baseline\"].sigma_back\n",
    "model_names = [\"baseline\"] + model_names\n",
    "model_names"
   ]
  },
  {
   "cell_type": "markdown",
   "metadata": {},
   "source": [
    "## Create a mesh"
   ]
  },
  {
   "cell_type": "code",
   "execution_count": 6,
   "metadata": {},
   "outputs": [],
   "source": [
    "# parameters defining the core region of the mesh\n",
    "csx2 = 25.  # cell size in the x-direction in the second uniform region of the mesh (where we measure data)\n",
    "csz = 5  # cell size in the z-direction \n",
    "domainx2 = 100  # go out 500m from the well\n",
    "\n",
    "# padding parameters\n",
    "npadx, npadz = 15, 15  # number of padding cells\n",
    "pfx2 = 1.4  # expansion factor for the padding to infinity in the x-direction\n",
    "pfz = 1.4\n",
    "\n",
    "# set up a mesh generator which will build a mesh based on the provided parameters\n",
    "# and casing geometry\n",
    "def get_mesh(mod):\n",
    "    return casingSim.CasingMeshGenerator(\n",
    "        directory=simDir,  # directory where we can save things\n",
    "        modelParameters=mod,  # casing parameters\n",
    "        npadx=npadx,  # number of padding cells in the x-direction\n",
    "        npadz=npadz,  # number of padding cells in the z-direction\n",
    "        domain_x=domainx2,  # extent of the second uniform region of the mesh \n",
    "#         hy=hy,   # cell spacings in the \n",
    "        csx1=mod.casing_t/4.,  # use at least 4 cells per across the thickness of the casing\n",
    "        csx2=csx2,  # second core cell size\n",
    "        csz=csz,  # cell size in the z-direction\n",
    "        pfx2=pfx2,  # padding factor to \"infinity\"\n",
    "        pfz=pfz  # padding factor to \"infinity\" for the z-direction\n",
    "    )"
   ]
  },
  {
   "cell_type": "code",
   "execution_count": 7,
   "metadata": {},
   "outputs": [],
   "source": [
    "mesh_generator = get_mesh(model_dict[model_names[0]])"
   ]
  },
  {
   "cell_type": "markdown",
   "metadata": {},
   "source": [
    "## Physical Properties"
   ]
  },
  {
   "cell_type": "code",
   "execution_count": 8,
   "metadata": {},
   "outputs": [],
   "source": [
    "# Assign physical properties on the mesh\n",
    "physprops = {\n",
    "    name: casingSim.model.PhysicalProperties(mesh_generator, mod) \n",
    "    for name, mod in model_dict.items()\n",
    "}"
   ]
  },
  {
   "cell_type": "code",
   "execution_count": 9,
   "metadata": {},
   "outputs": [],
   "source": [
    "from matplotlib.colors import LogNorm\n",
    "import matplotlib\n",
    "matplotlib.rcParams['font.size'] = 14"
   ]
  },
  {
   "cell_type": "code",
   "execution_count": 10,
   "metadata": {},
   "outputs": [
    {
     "data": {
      "image/png": "[encoded data removed]",
      "text/plain": [
       "<Figure size 432x288 with 2 Axes>"
      ]
     },
     "metadata": {
      "needs_background": "light"
     },
     "output_type": "display_data"
    }
   ],
   "source": [
    "pp = physprops['casing_100']    \n",
    "sigma = pp.sigma\n",
    "fig, ax = plt.subplots()\n",
    "out = mesh_generator.mesh.plotImage(\n",
    "    1./sigma, grid=True, \n",
    "    gridOpts={'alpha':0.2, 'color':'w'}, \n",
    "    pcolorOpts={'norm':LogNorm(), 'cmap':'jet'}, \n",
    "    mirror=True, ax=ax\n",
    ")\n",
    "cb= plt.colorbar(out[0], ax=ax)\n",
    "cb.set_label(\"Resistivity ($\\Omega$m)\")\n",
    "ax.set_xlabel(\"x (m)\")\n",
    "ax.set_ylabel(\"z (m)\")\n",
    "ax.set_xlim(-0.3, 0.3)\n",
    "ax.set_ylim(-30, 30)\n",
    "plt.tight_layout()\n",
    "fig.savefig(\"./figures/figure-4\", dpi=200)"
   ]
  },
  {
   "cell_type": "markdown",
   "metadata": {},
   "source": [
    "## Set up the time domain EM problem \n",
    "\n",
    "We run a time domain EM simulation with SkyTEM geometry"
   ]
  },
  {
   "cell_type": "code",
   "execution_count": 11,
   "metadata": {},
   "outputs": [],
   "source": [
    "data_dir = \"./data/\"\n",
    "waveform_hm = np.loadtxt(data_dir+\"HM_butte_312.txt\")\n",
    "time_gates_hm = np.loadtxt(data_dir+\"HM_butte_312_gates\")[7:,:] * 1e-6\n",
    "waveform_lm = np.loadtxt(data_dir+\"LM_butte_312.txt\")\n",
    "time_gates_lm = np.loadtxt(data_dir+\"LM_butte_312_gates\")[8:,:] * 1e-6\n",
    "\n",
    "time_input_currents_HM = waveform_hm[:,0]\n",
    "input_currents_HM = waveform_hm[:,1]\n",
    "time_input_currents_LM = waveform_lm[:,0]\n",
    "input_currents_LM = waveform_lm[:,1]\n",
    "\n",
    "time_LM = time_gates_lm[:,3] - waveform_lm[:,0].max()\n",
    "time_HM = time_gates_hm[:,3] - waveform_hm[:,0].max()\n",
    "\n",
    "base_frequency_HM = 30.\n",
    "base_frequency_LM = 210.\n",
    "\n",
    "source_area = 536.36\n",
    "pico = 1e12\n",
    "def run_simulation(sigma, mu, z_src):        \n",
    "\n",
    "    mesh = mesh_generator.mesh\n",
    "\n",
    "    dts = np.diff(np.logspace(-6, -1, 50))\n",
    "    timeSteps = []\n",
    "    for dt in dts:\n",
    "        timeSteps.append((dt, 1))\n",
    "\n",
    "    prb = TDEM.Problem3D_e(\n",
    "        mesh=mesh, timeSteps=timeSteps,\n",
    "        Solver=Pardiso\n",
    "    )\n",
    "\n",
    "    x_rx = 13.25\n",
    "    z_offset = 2.\n",
    "    rxloc = np.array([x_rx, 0., z_src+z_offset])\n",
    "    srcloc = np.array([0., 0., z_src])\n",
    "    times = np.logspace(np.log10(1e-5), np.log10(1e-2), 31)\n",
    "\n",
    "    rx = TDEM.Rx.Point_dbdt(locs=np.array([x_rx, 0., z_src+z_offset]), times=times, orientation=\"z\")\n",
    "    src = TDEM.Src.CircularLoop(\n",
    "            [rx], \n",
    "            loc=np.r_[0., 0., z_src], orientation=\"z\", radius=13.25\n",
    "    )\n",
    "    area = np.pi * src.radius**2\n",
    "    def bdf2(sigma):\n",
    "        # Operators\n",
    "        C = mesh.edgeCurl\n",
    "        Mfmui = mesh.getFaceInnerProduct(1./mu_0)\n",
    "        MeSigma = mesh.getEdgeInnerProduct(sigma)\n",
    "        n_steps = prb.timeSteps.size\n",
    "        Fz = mesh.getInterpolationMat(rx.locs, locType='Fz')\n",
    "        eps = 1e-10\n",
    "        def getA(dt, factor=1.):\n",
    "            return C.T*Mfmui*C + factor/dt * MeSigma\n",
    "        dt_0 = 0.\n",
    "        data_test = np.zeros(prb.timeSteps.size)\n",
    "        sol_n0 = np.zeros(mesh.nE)\n",
    "        sol_n1 = np.zeros(mesh.nE)\n",
    "        sol_n2 = np.zeros(mesh.nE)\n",
    "        for ii in range(n_steps):\n",
    "            dt = prb.timeSteps[ii]\n",
    "            #Factor for BDF2\n",
    "            factor=3/2.            \n",
    "            if abs(dt_0-dt) > eps:\n",
    "                if ii != 0:\n",
    "                    Ainv.clean()                \n",
    "#                 print (ii, factor)\n",
    "                A = getA(dt, factor=factor)            \n",
    "                Ainv = prb.Solver(A)\n",
    "            if ii==0:        \n",
    "                b0 = src.bInitial(prb)\n",
    "                s_e = C.T*Mfmui*b0\n",
    "                rhs = factor/dt*s_e\n",
    "            elif ii==1:\n",
    "                rhs = -factor/dt*(MeSigma*(-4/3.*sol_n1+1/3.*sol_n0) + 1./3.*s_e)\n",
    "            else:\n",
    "                rhs = -factor/dt*(MeSigma*(-4/3.*sol_n1+1/3.*sol_n0))\n",
    "            sol_n2 = Ainv*rhs\n",
    "            data_test[ii] = Fz*(-C*sol_n2)\n",
    "            dt_0 = dt\n",
    "            sol_n0 = sol_n1.copy()            \n",
    "            sol_n1 = sol_n2.copy()    \n",
    "        step_response = -data_test.copy() \n",
    "\n",
    "        step_func = interp1d(\n",
    "            prb.times[1:], step_response\n",
    "        )\n",
    "\n",
    "        period_HM = 1./base_frequency_HM\n",
    "        period_LM = 1./base_frequency_LM\n",
    "\n",
    "        data_hm = piecewise_pulse_fast(\n",
    "                            step_func, time_HM,\n",
    "                            time_input_currents_HM, input_currents_HM,\n",
    "                            period_HM, n_pulse=1\n",
    "        )\n",
    "        data_lm = piecewise_pulse_fast(\n",
    "                            step_func, time_LM,\n",
    "                            time_input_currents_LM, input_currents_LM,\n",
    "                            period_LM, n_pulse=1\n",
    "        )\n",
    "        return np.r_[data_hm, data_lm] / area * pico\n",
    "    return bdf2(sigma)"
   ]
  },
  {
   "cell_type": "markdown",
   "metadata": {
    "collapsed": true
   },
   "source": [
    "## Run the simulation\n",
    "\n",
    "- for each permeability model we run the simulation for 2 conductivity models (casing = $10^6$S/m and $10^{-4}$S/m\n",
    "- each simulation takes 15s-20s on my machine: the next cell takes ~ 4min to run"
   ]
  },
  {
   "cell_type": "code",
   "execution_count": 12,
   "metadata": {},
   "outputs": [],
   "source": [
    "pp = physprops['baseline']    \n",
    "sigma_base = pp.sigma\n",
    "pp = physprops['casing_100']    \n",
    "sigma = pp.sigma\n",
    "mu = pp.mu"
   ]
  },
  {
   "cell_type": "code",
   "execution_count": null,
   "metadata": {},
   "outputs": [],
   "source": [
    "data_base = []\n",
    "data_casing = []\n",
    "for height in [10, 20, 30, 40]:\n",
    "    data_base.append(run_simulation(sigma_base, mu_0, height))\n",
    "    data_casing.append(run_simulation(sigma, mu, height))"
   ]
  },
  {
   "cell_type": "code",
   "execution_count": null,
   "metadata": {},
   "outputs": [],
   "source": [
    "import matplotlib\n",
    "matplotlib.rcParams['font.size'] = 14\n",
    "fig_dir = \"./figures/\""
   ]
  },
  {
   "cell_type": "code",
   "execution_count": null,
   "metadata": {},
   "outputs": [],
   "source": [
    "times = np.logspace(np.log10(1e-5), np.log10(1e-2), 31)\n",
    "colors = ['k', 'b', 'g', 'r']\n",
    "ii=0\n",
    "fig, axs = plt.subplots(1,2, figsize=(10, 5))\n",
    "axs[0].loglog(time_gates_hm[:,3], data_base[ii][:time_HM.size], 'k--')\n",
    "axs[0].loglog(time_gates_lm[:,3], data_base[ii][time_HM.size:], 'b--')\n",
    "axs[0].loglog(time_gates_hm[:,3], data_casing[ii][:time_HM.size], 'k-')\n",
    "axs[0].loglog(time_gates_lm[:,3], data_casing[ii][time_HM.size:], 'b-')\n",
    "rerr_hm = abs(data_casing[ii][:time_HM.size]-data_base[ii][:time_HM.size]) / abs(data_base[ii][:time_HM.size])\n",
    "rerr_lm = abs(data_casing[ii][time_HM.size:]-data_base[ii][time_HM.size:]) / abs(data_base[ii][time_HM.size:])\n",
    "axs[1].semilogx(time_gates_hm[:,3], rerr_hm * 100, 'k-')\n",
    "axs[1].semilogx(time_gates_lm[:,3], rerr_lm * 100, 'b-')\n",
    "axs[1].set_ylim(0, 100)\n",
    "axs[0].legend(('HM-background', 'LM-background', 'HM-casing', 'LM-casing'))\n",
    "for ax in axs:\n",
    "    ax.set_xlabel(\"Time (s)\")\n",
    "    ax.grid(True)\n",
    "axs[0].set_title('(a) AEM response')\n",
    "axs[1].set_title('(b) Percentage casing effect')\n",
    "axs[0].set_ylabel(\"Voltage (pV/A-m$^4$)\")    \n",
    "axs[1].set_ylabel(\"Percentage casing effect (%)\") \n",
    "plt.tight_layout()\n",
    "fig.savefig(\"./figures/figure-5\", dpi=200)"
   ]
  },
  {
   "cell_type": "code",
   "execution_count": null,
   "metadata": {},
   "outputs": [],
   "source": [
    "rerr_max_1ohmm = np.load(\"rerr_max_1ohmm.npy\")\n",
    "rerr_max_20ohmm = np.load(\"rerr_max_20ohmm.npy\")\n",
    "rerr_max_100ohmm = np.load(\"rerr_max_100ohmm.npy\")\n",
    "rerr_max_200ohmm = np.load(\"rerr_max_200ohmm.npy\")\n",
    "rerr_max_340ohmm = np.load(\"rerr_max_340ohmm.npy\")"
   ]
  },
  {
   "cell_type": "code",
   "execution_count": null,
   "metadata": {},
   "outputs": [],
   "source": [
    "\n",
    "fig = plt.figure(figsize = (6,5))\n",
    "ax = plt.gca()\n",
    "ax_1 = ax.twinx()\n",
    "ax.plot([10, 20, 30, 40], rerr_max_340ohmm*100, 'k^--', ms=10)\n",
    "ax.plot([10, 20, 30, 40], rerr_max_200ohmm*100, 'ks--', ms=10)\n",
    "ax.plot([10, 20, 30, 40], rerr_max_100ohmm*100, 'kx--', ms=10)\n",
    "ax.plot([10, 20, 30, 40], rerr_max_20ohmm*100, 'k*--', ms=10)\n",
    "ax.plot([10, 20, 30, 40], rerr_max_1ohmm*100, 'ko--', ms=10)\n",
    "\n",
    "ax.set_xlabel(\"Transmitter height (m)\")\n",
    "ax.set_ylabel(\"Maximum percentage casing effect (%)\")\n",
    "ax.legend((\"340 $\\Omega$m\", \"200 $\\Omega$m\", \"100 $\\Omega$m\", \"20 $\\Omega$m\", \"1 $\\Omega$m\", ))\n",
    "ax_1.set_yticks([3])\n",
    "ax_1.set_yticklabels([\"3%\"])\n",
    "xlim = ax.get_xlim()\n",
    "ax_1.plot(xlim, (3,3), '-', color='grey', alpha=0.8)\n",
    "ax.set_ylim(-5, 110)\n",
    "ax_1.set_ylim(-5, 110)\n",
    "ax.set_xlim(xlim)\n",
    "plt.tight_layout()\n",
    "fig.savefig(\"./figures/figure-6\", dpi=200)"
   ]
  }
 ],
 "metadata": {
  "kernelspec": {
   "display_name": "Python 3",
   "language": "python",
   "name": "python3"
  },
  "language_info": {
   "codemirror_mode": {
    "name": "ipython",
    "version": 3
   },
   "file_extension": ".py",
   "mimetype": "text/x-python",
   "name": "python",
   "nbconvert_exporter": "python",
   "pygments_lexer": "ipython3",
   "version": "3.7.3"
  }
 },
 "nbformat": 4,
 "nbformat_minor": 2
}
